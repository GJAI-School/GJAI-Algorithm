{
 "cells": [
  {
   "cell_type": "markdown",
   "metadata": {},
   "source": [
    "# 선형조사\n",
    "\n",
    "선형조사는 충돌이 일어난 지점으로부터 순차적으로 검색하여 처음 발견한 빈 공간에 충돌이 일어난 키를 저장합니다.\n",
    "\n",
    "<img src=\"./img/linear.jpg\" width=\"500\"/>\n",
    "\n",
    "### 핵심 아이디어 : (h(key) + j) % M, j = 1, 2, 3, ...\n",
    "\n",
    "충돌이 나면 바로 다음 원소를 검사하자\n",
    "\n",
    "\n",
    "### 문제점\n",
    "\n",
    "충돌이 발생하는 지점이 같은 경우 그 다음 원소를 검사하여 이동할 때 빈 인덱스가 없으면 마찬가지로 충돌이 발생하게 됩니다. 이때 해시테이블의 키들이 빈틈없이 뭉쳐지는 현상이 발생하게 되는데 이를 1차 군집화라고 합니다. 이러한 군집화는 탐색, 삽입, 삭제 연산을 수행할 때 군집된 키들을 순차적으로 방문해야 하는 문제점을 발생시켜 해시 성능을 저하시킵니다. 이러한 군집화는 비어있는 원소의 수가 적을수록 심집니다."
   ]
  },
  {
   "cell_type": "markdown",
   "metadata": {},
   "source": [
    "# 해시함수"
   ]
  },
  {
   "cell_type": "code",
   "execution_count": null,
   "metadata": {},
   "outputs": [],
   "source": [
    "def hash(self, key): # 나눗셈 해시 함수\n",
    "        return key % self.M"
   ]
  },
  {
   "cell_type": "markdown",
   "metadata": {},
   "source": [
    "# 삽입"
   ]
  },
  {
   "cell_type": "code",
   "execution_count": null,
   "metadata": {},
   "outputs": [],
   "source": [
    "def put(self, key, data):\n",
    "        initial_position = self.hash(key) # 초기 위치\n",
    "        i = initial_position\n",
    "        j = 0\n",
    "        \n",
    "        while True:\n",
    "            if self.a[i] == None: # 빈곳을 발견! \n",
    "                self.a[i] = key # key값은 해시테이블a에\n",
    "                self.d[i] = data # data는 리스트d에 저장\n",
    "                return \n",
    "            if self.a[i] == key: # key값이 이미 해시테이블에 존재\n",
    "                self.d[i] = data # 데이터 갱신\n",
    "                return \n",
    "            \n",
    "            j += 1\n",
    "            i = (initial_position + j) % self.M # 다음 원소 검사\n",
    "            if i == initial_position: # 처음 위치로 돌아올시 저장 실패. 남은 공간이 없다.\n",
    "                break "
   ]
  },
  {
   "cell_type": "markdown",
   "metadata": {},
   "source": [
    "# 탐색"
   ]
  },
  {
   "cell_type": "code",
   "execution_count": null,
   "metadata": {},
   "outputs": [],
   "source": [
    "    def get(self, key):\n",
    "        initial_position = self.hash(key) # 초기 위치\n",
    "        i = initial_position\n",
    "        j = 1\n",
    "        \n",
    "        while self.a[i] != None:\n",
    "            if self.a[i] == key:\n",
    "                return self.d[i] # 탐색에 성공! 키값에 해당되는 해시테이블과 키값이 같을때 리스트d에서 data를 가져옴\n",
    "            \n",
    "            i = (initial_position + j) % self.M # 다음 원소 검사\n",
    "            j += 1\n",
    "            if i == initial_position:\n",
    "                return None # 탐색 실패\n",
    "        return None # 탐색 실패"
   ]
  },
  {
   "cell_type": "markdown",
   "metadata": {},
   "source": [
    "# 삭제"
   ]
  },
  {
   "cell_type": "code",
   "execution_count": null,
   "metadata": {},
   "outputs": [],
   "source": [
    "    def delete(self, key): # 삭제 연산\n",
    "        initial_position = self.hash(key)\n",
    "        i = initial_position\n",
    "        j = 1\n",
    "        \n",
    "        while self.a[i] != None: # a[i]가 empty가 아니면\n",
    "            if self.a[i] == key:\n",
    "                self.a[i] = None\n",
    "                self.d[i] = None\n",
    "                return\n",
    "            \n",
    "            i = (initial_position + j) % self.M  # i의 다음 위치\n",
    "            j += 1   \n",
    "            if i == initial_position: # i가 초기위치와 같으면 루프 종료\n",
    "                return None # 삭제 실패             \n",
    "        return None # 삭제 실패    "
   ]
  },
  {
   "cell_type": "markdown",
   "metadata": {},
   "source": [
    "# 전체 코드"
   ]
  },
  {
   "cell_type": "code",
   "execution_count": 60,
   "metadata": {},
   "outputs": [
    {
     "name": "stdout",
     "output_type": "stream",
     "text": [
      "탐색결과\n",
      "50의 data =  orange\n",
      "63의 data =  melon\n",
      "\n",
      "해시테이블\n",
      "0         1         2         3         4         5         6         7         8         9         10        11        12        \n",
      "50        63        None      55        None      18        None      None      None      22        35        37        25        \n",
      "orange    melon     None      cherry    None      banana    None      None      None      mango     lime      apple     grape     \n",
      "\n",
      "삭제후 해시테이블\n",
      "0         1         2         3         4         5         6         7         8         9         10        11        12        \n",
      "50        63        None      55        None      18        None      None      None      22        None      37        None      \n",
      "orange    melon     None      cherry    None      banana    None      None      None      mango     None      apple     None      \n"
     ]
    }
   ],
   "source": [
    "class LinearProbing:\n",
    "    def __init__(self, size):\n",
    "        self.M = size # 테이블의 크기    \n",
    "        self.a = [None] * size # 해시테이블 a\n",
    "        self.d = [None] * size # 데이터 저장용 d\n",
    "    \n",
    "    def hash(self, key): # 나눗셈 해시 함수\n",
    "        return key % self.M\n",
    "    \n",
    "    def put(self, key, data):\n",
    "        initial_position = self.hash(key) # 초기 위치\n",
    "        i = initial_position\n",
    "        j = 0\n",
    "        \n",
    "        while True:\n",
    "            if self.a[i] == None: # 빈곳을 발견! \n",
    "                self.a[i] = key # key값은 해시테이블a에\n",
    "                self.d[i] = data # data는 리스트d에 저장\n",
    "                return \n",
    "            if self.a[i] == key: # key값이 이미 해시테이블에 존재\n",
    "                self.d[i] = data # 데이터 갱신\n",
    "                return \n",
    "            \n",
    "            j += 1\n",
    "            i = (initial_position + j) % self.M # 다음 원소 검사\n",
    "            if i == initial_position: # 처음 위치로 돌아올시 저장 실패. 남은 공간이 없다.\n",
    "                break \n",
    "            \n",
    "    \n",
    "    def get(self, key):\n",
    "        initial_position = self.hash(key) # 초기 위치\n",
    "        i = initial_position\n",
    "        j = 1\n",
    "        \n",
    "        while self.a[i] != None:\n",
    "            if self.a[i] == key:\n",
    "                return self.d[i] # 탐색에 성공! 키값에 해당되는 해시테이블과 키값이 같을때 리스트d에서 data를 가져옴\n",
    "            \n",
    "            i = (initial_position + j) % self.M # 다음 원소 검사\n",
    "            j += 1\n",
    "            if i == initial_position:\n",
    "                return None # 탐색 실패\n",
    "        return None # 탐색 실패\n",
    "    \n",
    "    def delete(self, key): # 삭제 연산\n",
    "        initial_position = self.hash(key)\n",
    "        i = initial_position\n",
    "        j = 1\n",
    "        \n",
    "        while self.a[i] != None: # a[i]가 empty가 아니면\n",
    "            if self.a[i] == key:\n",
    "                self.a[i] = None\n",
    "                self.d[i] = None\n",
    "                return\n",
    "            i = (initial_position + j) % self.M  # i의 다음 위치\n",
    "            j += 1   \n",
    "            if i == initial_position: # i가 초기위치와 같으면 루프 종료\n",
    "                return None # 삭제 실패             \n",
    "        return None # 삭제 실패    \n",
    "    \n",
    "    def print_table(self): # 해시테이블 출력\n",
    "        for i in range(self.M):\n",
    "            print('{:8}'.format(str(i)), ' ', end='')\n",
    "        print()\n",
    "        for i in range(self.M):\n",
    "            print('{:8}'.format(str(self.a[i])), ' ', end='')\n",
    "        print()\n",
    "        for i in range(self.M):\n",
    "            print('{:8}'.format(str(self.d[i])), ' ', end='')\n",
    "        print()\n",
    "        \n",
    "\n",
    "\n",
    "if __name__ == '__main__':\n",
    "    t = LinearProbing(13)\n",
    "    t.put(25, 'grape')\n",
    "    t.put(37, 'apple')\n",
    "    t.put(18, 'banana')\n",
    "    t.put(55, 'cherry')\n",
    "    t.put(22, 'mango')\n",
    "    t.put(35, 'lime')\n",
    "    t.put(50, 'orange')\n",
    "    t.put(63, 'melon')\n",
    "    print(\"탐색결과\")\n",
    "    print('50의 data = ', t.get(50))\n",
    "    print('63의 data = ', t.get(63))\n",
    "    print(\"\")\n",
    "    print('해시테이블')\n",
    "    t.print_table()\n",
    "    print(\"\")\n",
    "    t.delete(35)\n",
    "    t.delete(25)\n",
    "    print(\"삭제후 해시테이블\")\n",
    "    t.print_table()"
   ]
  }
 ],
 "metadata": {
  "kernelspec": {
   "display_name": "Python 3",
   "language": "python",
   "name": "python3"
  },
  "language_info": {
   "codemirror_mode": {
    "name": "ipython",
    "version": 3
   },
   "file_extension": ".py",
   "mimetype": "text/x-python",
   "name": "python",
   "nbconvert_exporter": "python",
   "pygments_lexer": "ipython3",
   "version": "3.6.8"
  }
 },
 "nbformat": 4,
 "nbformat_minor": 2
}

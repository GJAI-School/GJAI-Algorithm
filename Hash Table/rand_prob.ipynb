{
 "cells": [
  {
   "cell_type": "markdown",
   "metadata": {},
   "source": [
    "# 랜덤조사 \n",
    "\n",
    "선형조사와 이차조사의 규칙적인 점프 시퀀스와는 달리 랜덤 조사는 점프 시퀀스를 무작위로하여 비어있는 원소를 찾아 충돌을 해결하는 방법입니다. \n",
    "\n",
    "### 핵심 아이디어\n",
    "\n",
    "충돌이 일어나면 일정한 규칙없이 비어있는 원소를 검사하자.\n",
    "\n",
    "### 문제점\n",
    "\n",
    "램덤조사는 의사 난수 생성기를 사용하여 다음 위치를 찾는다(탐색, 삭제를 위해). 하지만 랜덤조사 방식도 같은 해시값을 갖는 서로 다른키들이 똑같은 점프 시퀀스를 하며 비어있는 원소를 찾아 키를 저장하게 되어 이는 곧 2차 군집화와 유사한 형태인 3차 군집화를 형성하게 됩니다."
   ]
  },
  {
   "cell_type": "markdown",
   "metadata": {},
   "source": [
    "# 해시함수"
   ]
  },
  {
   "cell_type": "code",
   "execution_count": null,
   "metadata": {},
   "outputs": [],
   "source": [
    "def hash(self, key): # 나눗셈 해시 함수\n",
    "        return key % self.M"
   ]
  },
  {
   "cell_type": "markdown",
   "metadata": {},
   "source": [
    "# 삽입"
   ]
  },
  {
   "cell_type": "code",
   "execution_count": null,
   "metadata": {},
   "outputs": [],
   "source": [
    "def put(self, key, data):\n",
    "        initial_position = self.hash(key)\n",
    "        i = initial_position\n",
    "        random.seed(1000) # 난수 생성기\n",
    "        \n",
    "        while True:\n",
    "            if self.a[i] == None:\n",
    "                self.a[i] = key\n",
    "                self.d[i] = data\n",
    "                return\n",
    "            if self.a[i] == key:\n",
    "                self.d[i] == data\n",
    "                return\n",
    "            \n",
    "            j = random.randint(1, 99)\n",
    "            i = (initial_position + j) % self.M \n",
    "            if i == initial_position:\n",
    "                break"
   ]
  },
  {
   "cell_type": "markdown",
   "metadata": {},
   "source": [
    "# 탐색"
   ]
  },
  {
   "cell_type": "code",
   "execution_count": null,
   "metadata": {},
   "outputs": [],
   "source": [
    "def get(self, key):\n",
    "        initial_position = self.hash(key) # 초기 위치\n",
    "        i = initial_position\n",
    "        random.seed(1000)\n",
    "        \n",
    "        while self.a[i] != None:\n",
    "            if self.a[i] == key:\n",
    "                return self.d[i] # 탐색에 성공! 키값에 해당되는 해시테이블과 키값이 같을때 리스트d에서 data를 가져옴\n",
    "            \n",
    "            j = random.randint(1, 99)\n",
    "            i = (initial_position + j) % self.M # 다음 원소 검사\n",
    "            if i == initial_position:\n",
    "                return None # 탐색 실패\n",
    "        return None # 탐색 실패"
   ]
  },
  {
   "cell_type": "markdown",
   "metadata": {},
   "source": [
    "# 삭제"
   ]
  },
  {
   "cell_type": "code",
   "execution_count": null,
   "metadata": {},
   "outputs": [],
   "source": [
    "def delete(self, key): # 삭제 연산\n",
    "        initial_position = self.hash(key)\n",
    "        i = initial_position\n",
    "        random.seed(1000)\n",
    "        \n",
    "        while self.a[i] != None: # a[i]가 empty가 아니면\n",
    "            if self.a[i] == key:\n",
    "                self.a[i] = None\n",
    "                self.d[i] = None\n",
    "                return\n",
    "            \n",
    "            j = random.randint(1, 99)\n",
    "            i = (initial_position + j) % self.M  # i의 다음 위치\n",
    "            if i == initial_position: # i가 초기위치와 같으면 루프 종료\n",
    "                return None # 삭제 실패             \n",
    "        return None # 삭제 실패"
   ]
  },
  {
   "cell_type": "markdown",
   "metadata": {},
   "source": [
    "# 전체 코드"
   ]
  },
  {
   "cell_type": "code",
   "execution_count": 3,
   "metadata": {},
   "outputs": [
    {
     "name": "stdout",
     "output_type": "stream",
     "text": [
      "탐색결과\n",
      "50의 data =  orange\n",
      "63의 data =  melon\n",
      "\n",
      "해시테이블\n",
      "0         1         2         3         4         5         6         7         8         9         10        11        12        \n",
      "None      50        None      55        35        18        63        None      None      22        None      37        25        \n",
      "None      orange    None      cherry    lime      banana    melon     None      None      mango     None      apple     grape     \n",
      "\n",
      "삭제후 해시테이블\n",
      "0         1         2         3         4         5         6         7         8         9         10        11        12        \n",
      "None      50        None      55        None      18        63        None      None      22        None      37        None      \n",
      "None      orange    None      cherry    None      banana    melon     None      None      mango     None      apple     None      \n"
     ]
    }
   ],
   "source": [
    "import random\n",
    "\n",
    "class RandProbing():\n",
    "    def __init__(self, size):\n",
    "        self.M = size\n",
    "        self.a = [None] * size\n",
    "        self.d = [None] * size\n",
    "        \n",
    "    def hash(self, key): # 나눗셈 해시 함수\n",
    "        return key % self.M\n",
    "    \n",
    "    def put(self, key, data):\n",
    "        initial_position = self.hash(key)\n",
    "        i = initial_position\n",
    "        random.seed(1000) # 난수 생성기\n",
    "        \n",
    "        while True:\n",
    "            if self.a[i] == None:\n",
    "                self.a[i] = key\n",
    "                self.d[i] = data\n",
    "                return\n",
    "            if self.a[i] == key:\n",
    "                self.d[i] == data\n",
    "                return\n",
    "            \n",
    "            j = random.randint(1, 99)\n",
    "            i = (initial_position + j) % self.M \n",
    "            if i == initial_position:\n",
    "                break\n",
    "    \n",
    "    def get(self, key):\n",
    "        initial_position = self.hash(key) # 초기 위치\n",
    "        i = initial_position\n",
    "        random.seed(1000)\n",
    "        \n",
    "        while self.a[i] != None:\n",
    "            if self.a[i] == key:\n",
    "                return self.d[i] # 탐색에 성공! 키값에 해당되는 해시테이블과 키값이 같을때 리스트d에서 data를 가져옴\n",
    "            \n",
    "            j = random.randint(1, 99)\n",
    "            i = (initial_position + j) % self.M # 다음 원소 검사\n",
    "            if i == initial_position:\n",
    "                return None # 탐색 실패\n",
    "        return None # 탐색 실패\n",
    "    \n",
    "    def delete(self, key): # 삭제 연산\n",
    "        initial_position = self.hash(key)\n",
    "        i = initial_position\n",
    "        random.seed(1000)\n",
    "        \n",
    "        while self.a[i] != None: # a[i]가 empty가 아니면\n",
    "            if self.a[i] == key:\n",
    "                self.a[i] = None\n",
    "                self.d[i] = None\n",
    "                return\n",
    "            \n",
    "            j = random.randint(1, 99)\n",
    "            i = (initial_position + j) % self.M  # i의 다음 위치\n",
    "            if i == initial_position: # i가 초기위치와 같으면 루프 종료\n",
    "                return None # 삭제 실패             \n",
    "        return None # 삭제 실패    \n",
    "\n",
    "    def print_table(self): # 해시테이블 출력\n",
    "        for i in range(self.M):\n",
    "            print('{:8}'.format(str(i)), ' ', end='')\n",
    "        print()\n",
    "        for i in range(self.M):\n",
    "            print('{:8}'.format(str(self.a[i])), ' ', end='')\n",
    "        print()\n",
    "        for i in range(self.M):\n",
    "            print('{:8}'.format(str(self.d[i])), ' ', end='')\n",
    "        print()\n",
    "\n",
    "        \n",
    "\n",
    "if __name__ == '__main__':\n",
    "    t = RandProbing(13)\n",
    "    t.put(25, 'grape')\n",
    "    t.put(37, 'apple')\n",
    "    t.put(18, 'banana')\n",
    "    t.put(55, 'cherry')\n",
    "    t.put(22, 'mango')\n",
    "    t.put(35, 'lime')\n",
    "    t.put(50, 'orange')\n",
    "    t.put(63, 'melon')\n",
    "    print(\"탐색결과\")\n",
    "    print('50의 data = ', t.get(50))\n",
    "    print('63의 data = ', t.get(63))\n",
    "    print(\"\")\n",
    "    print('해시테이블')\n",
    "    t.print_table()\n",
    "    print(\"\")\n",
    "    t.delete(35)\n",
    "    t.delete(25)\n",
    "    print(\"삭제후 해시테이블\")\n",
    "    t.print_table()"
   ]
  }
 ],
 "metadata": {
  "kernelspec": {
   "display_name": "Python 3",
   "language": "python",
   "name": "python3"
  },
  "language_info": {
   "codemirror_mode": {
    "name": "ipython",
    "version": 3
   },
   "file_extension": ".py",
   "mimetype": "text/x-python",
   "name": "python",
   "nbconvert_exporter": "python",
   "pygments_lexer": "ipython3",
   "version": "3.6.8"
  }
 },
 "nbformat": 4,
 "nbformat_minor": 2
}

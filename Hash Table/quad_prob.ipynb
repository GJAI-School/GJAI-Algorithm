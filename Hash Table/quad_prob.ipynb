{
 "cells": [
  {
   "cell_type": "markdown",
   "metadata": {},
   "source": [
    "# 이차조사\n",
    "\n",
    "이차조사는 선형조사와 근본적으로 동일한 방법을 사용하여 충돌을 해결하는 방법입니다.\n",
    "\n",
    "<img src=\"./img/quad.jpg\" width=\"500\"/>\n",
    "\n",
    "### 핵심아이디어 : (h(key) + j x j) % M, j = 0, 1, 2, ...\n",
    "\n",
    "충돌이 나면 갈수록 더 멀리 떨어진 원소를 검사하자!\n",
    "\n",
    "### 문제점\n",
    "\n",
    "선형조사와는 달리 이웃하는 빈 곳이 채워져 만들어지는 1차 군집화는 해결하지만 같은 해시값을 갖는 서로 다른 키들이 충돌이 발생할 경우 똑같은 시퀀스 점프를 가지며 비어있는 공간을 찾아 갑니다. 결국 또 다른 형태의 군집화는 2차 군집화를 발생시킵니다."
   ]
  },
  {
   "cell_type": "markdown",
   "metadata": {},
   "source": [
    "# 해시함수"
   ]
  },
  {
   "cell_type": "code",
   "execution_count": null,
   "metadata": {},
   "outputs": [],
   "source": [
    "def hash(self, key): # 나눗셈 해시함수\n",
    "        return key % self.M"
   ]
  },
  {
   "cell_type": "markdown",
   "metadata": {},
   "source": [
    "# 삽입"
   ]
  },
  {
   "cell_type": "code",
   "execution_count": null,
   "metadata": {},
   "outputs": [],
   "source": [
    "def put(self, key, data):\n",
    "        initial_position = self.hash(key) # 초기 위치\n",
    "        i = initial_position\n",
    "        j = 0\n",
    "        \n",
    "        while True:\n",
    "            if self.a[i] == None: # 빈곳 발견!\n",
    "                self.a[i] = key\n",
    "                self.d[i] = data\n",
    "                return\n",
    "            if self.a[i] == key: # 이미 해시테이블에 key값이 존재\n",
    "                self.d[i] = data\n",
    "                return\n",
    "        \n",
    "            j += 1 \n",
    "            i = (initial_position + j*j) % self.M # 다음 원소를 검사 \n",
    "            if i == initial_position:      \n",
    "                break"
   ]
  },
  {
   "cell_type": "markdown",
   "metadata": {},
   "source": [
    "# 탐색"
   ]
  },
  {
   "cell_type": "code",
   "execution_count": null,
   "metadata": {},
   "outputs": [],
   "source": [
    " def get(self, key):\n",
    "        initial_position = self.hash(key) # 초기 위치 \n",
    "        i = initial_position\n",
    "        j = 1\n",
    "        \n",
    "        while self.a[i] != None:\n",
    "            if self.a[i] == key:\n",
    "                return self.d[i] # 탐색 성공!\n",
    "            i = (initial_position + j*j) % self.M \n",
    "            j += 1\n",
    "            if i == initial_position:\n",
    "                return None # 탐색 실패!\n",
    "        return None # 탐색 실패!"
   ]
  },
  {
   "cell_type": "markdown",
   "metadata": {},
   "source": [
    "# 삭제"
   ]
  },
  {
   "cell_type": "code",
   "execution_count": null,
   "metadata": {},
   "outputs": [],
   "source": [
    "def delete(self, key): # 삭제 연산\n",
    "        initial_position = self.hash(key)\n",
    "        i = initial_position\n",
    "        j = 1\n",
    "        while self.a[i] != None: # a[i]가 empty가 아니면\n",
    "            if self.a[i] == key:\n",
    "                self.a[i] = None\n",
    "                self.d[i] = None\n",
    "                return\n",
    "            i = (initial_position + j*j) % self.M # i의 다음 위치\n",
    "            j += 1   \n",
    "            if i == initial_position: # i가 초기위치와 같으면 루프 종료\n",
    "                return None # 삭제 실패             \n",
    "        return None # 삭제 실패 "
   ]
  },
  {
   "cell_type": "code",
   "execution_count": null,
   "metadata": {},
   "outputs": [],
   "source": []
  },
  {
   "cell_type": "markdown",
   "metadata": {},
   "source": [
    "# 전체 코드"
   ]
  },
  {
   "cell_type": "code",
   "execution_count": 11,
   "metadata": {},
   "outputs": [
    {
     "name": "stdout",
     "output_type": "stream",
     "text": [
      "탐색결과\n",
      "50의 data =  orange\n",
      "63의 data =  melon\n",
      "\n",
      "해시테이블\n",
      "0         1         2         3         4         5         6         7         8         9         10        11        12        \n",
      "None      None      50        55        None      18        None      63        None      22        35        37        25        \n",
      "None      None      orange    cherry    None      banana    None      melon     None      mango     lime      apple     grape     \n",
      "\n",
      "삭제후 해시테이블\n",
      "0         1         2         3         4         5         6         7         8         9         10        11        12        \n",
      "None      None      50        55        None      18        None      63        None      22        None      37        None      \n",
      "None      None      orange    cherry    None      banana    None      melon     None      mango     None      apple     None      \n"
     ]
    }
   ],
   "source": [
    "class QuadProbing:\n",
    "    def __init__(self, size):\n",
    "        self.M = size # 테이블 크기\n",
    "        self.a = [None] * size # 해시테이블 a\n",
    "        self.d = [None] * size # 데이터 리스트 d\n",
    "        \n",
    "    \n",
    "    def hash(self, key): # 나눗셈 해시함수\n",
    "        return key % self.M\n",
    "    \n",
    "    def put(self, key, data):\n",
    "        initial_position = self.hash(key) # 초기 위치\n",
    "        i = initial_position\n",
    "        j = 0\n",
    "        \n",
    "        while True:\n",
    "            if self.a[i] == None: # 빈곳 발견!\n",
    "                self.a[i] = key\n",
    "                self.d[i] = data\n",
    "                return\n",
    "            if self.a[i] == key: # 이미 해시테이블에 key값이 존재\n",
    "                self.d[i] = data\n",
    "                return\n",
    "        \n",
    "            j += 1 \n",
    "            i = (initial_position + j*j) % self.M # 다음 원소를 검사 \n",
    "            if i == initial_position:      \n",
    "                break\n",
    "            \n",
    "    def get(self, key):\n",
    "        initial_position = self.hash(key) # 초기 위치 \n",
    "        i = initial_position\n",
    "        j = 1\n",
    "        \n",
    "        while self.a[i] != None:\n",
    "            if self.a[i] == key:\n",
    "                return self.d[i] # 탐색 성공!\n",
    "            i = (initial_position + j*j) % self.M \n",
    "            j += 1\n",
    "            if i == initial_position:\n",
    "                return None # 탐색 실패!\n",
    "        return None # 탐색 실패!\n",
    "\n",
    "    def delete(self, key): # 삭제 연산\n",
    "        initial_position = self.hash(key)\n",
    "        i = initial_position\n",
    "        j = 1\n",
    "        while self.a[i] != None: # a[i]가 empty가 아니면\n",
    "            if self.a[i] == key:\n",
    "                self.a[i] = None\n",
    "                self.d[i] = None\n",
    "                return\n",
    "            i = (initial_position + j*j) % self.M # i의 다음 위치\n",
    "            j += 1   \n",
    "            if i == initial_position: # i가 초기위치와 같으면 루프 종료\n",
    "                return None # 삭제 실패             \n",
    "        return None # 삭제 실패 \n",
    "\n",
    "    \n",
    "    def print_table(self): # 해시테이블 출력\n",
    "        for i in range(self.M):\n",
    "            print('{:8}'.format(str(i)), ' ', end='')\n",
    "        print()\n",
    "        for i in range(self.M):\n",
    "            print('{:8}'.format(str(self.a[i])), ' ', end='')\n",
    "        print()\n",
    "        for i in range(self.M):\n",
    "            print('{:8}'.format(str(self.d[i])), ' ', end='')\n",
    "        print()\n",
    "    \n",
    "\n",
    "if __name__ == '__main__':\n",
    "    t = QuadProbing(13)\n",
    "    t.put(25, 'grape')\n",
    "    t.put(37, 'apple')\n",
    "    t.put(18, 'banana')\n",
    "    t.put(55, 'cherry')\n",
    "    t.put(22, 'mango')\n",
    "    t.put(35, 'lime')\n",
    "    t.put(50, 'orange')\n",
    "    t.put(63, 'melon')\n",
    "    print(\"탐색결과\")\n",
    "    print('50의 data = ', t.get(50))\n",
    "    print('63의 data = ', t.get(63))\n",
    "    print(\"\")\n",
    "    print('해시테이블')\n",
    "    t.print_table()\n",
    "    print(\"\")\n",
    "    t.delete(35)\n",
    "    t.delete(25)\n",
    "    print(\"삭제후 해시테이블\")\n",
    "    t.print_table()"
   ]
  }
 ],
 "metadata": {
  "kernelspec": {
   "display_name": "Python 3",
   "language": "python",
   "name": "python3"
  },
  "language_info": {
   "codemirror_mode": {
    "name": "ipython",
    "version": 3
   },
   "file_extension": ".py",
   "mimetype": "text/x-python",
   "name": "python",
   "nbconvert_exporter": "python",
   "pygments_lexer": "ipython3",
   "version": "3.6.8"
  }
 },
 "nbformat": 4,
 "nbformat_minor": 2
}

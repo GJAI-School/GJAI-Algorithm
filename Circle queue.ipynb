{
 "cells": [
  {
   "cell_type": "code",
   "execution_count": null,
   "metadata": {},
   "outputs": [],
   "source": [
    "class circle_queue:\n",
    "    def __init__(self, length):\n",
    "        self.length = length + 1\n",
    "        self.array_list = [0 for i in range(length)]\n",
    "        self.f_idx = 0\n",
    "        self.b_idx = 0\n",
    "        \n",
    "    def push(self, n):\n",
    "        if self.is_full():\n",
    "            return -1\n",
    "#         self.b_idx += 1\n",
    "#         self.b_idx %= self.length\n",
    "        self.b_idx = (self.b_idx + 1) % self.length\n",
    "        self.array_list[self.b_idx] = n\n",
    "    \n",
    "    def is_full(self):\n",
    "        return (self.b_idx + 1) % self.length == self.f_idx\n",
    "    \n",
    "    def pop(self):\n",
    "        if self.size() == 0:\n",
    "            return -1\n",
    "        self.f_idx = (self.f_idx + 1) % self.length\n",
    "        return self.array_list[self.f_idx]    \n",
    "            \n",
    "    def size(self):\n",
    "        return (self.b_idx - self.f_idx + self.length) % self.length\n",
    "\n",
    "    def empty(self):\n",
    "        if self.size == 0:\n",
    "            return 1\n",
    "        return 0\n",
    "    \n",
    "    def front(self):\n",
    "        if self.size() == 0:\n",
    "            return -1\n",
    "        return self.array_list[self.f_idx+1]\n",
    "    \n",
    "    def back(self):\n",
    "        if self.size() == 0:\n",
    "            return -1\n",
    "        return self.array_list[self.b_idx]\n",
    "\n",
    "    "
   ]
  }
 ],
 "metadata": {
  "kernelspec": {
   "display_name": "Python 3",
   "language": "python",
   "name": "python3"
  },
  "language_info": {
   "codemirror_mode": {
    "name": "ipython",
    "version": 3
   },
   "file_extension": ".py",
   "mimetype": "text/x-python",
   "name": "python",
   "nbconvert_exporter": "python",
   "pygments_lexer": "ipython3",
   "version": "3.7.6"
  }
 },
 "nbformat": 4,
 "nbformat_minor": 4
}
